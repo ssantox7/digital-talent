{
 "cells": [
  {
   "cell_type": "markdown",
   "metadata": {},
   "source": [
    "## Tugas List Nilai\n",
    "Diberikan sekumpulan Nilai Random antara 0 sampai dengan 100 sebanyak 250 nilai. Buatlah program untuk melakukan hal berikut:\n",
    "\n",
    "#### Tampilkan Angka Ganjil dari ke 250 nilai tersebut\n",
    "#### Tampilkan berapa banyak yang mendapatkan nilai lebih dari 70\n",
    "#### Tampilkan standar deviasi dari sekumpulan nilai tersebut\n",
    "#### Tampilkan nilai maksimum dan minimum\n",
    "#### Tampilkan modus dari sekumpulan nilai tersebut"
   ]
  },
  {
   "cell_type": "code",
   "execution_count": 1,
   "metadata": {},
   "outputs": [
    {
     "name": "stdout",
     "output_type": "stream",
     "text": [
      "[59, 31, 73, 25, 8, 32, 6, 35, 8, 92, 68, 20, 67, 72, 49, 60, 4, 55, 90, 17, 78, 11, 50, 91, 32, 12, 98, 7, 34, 31, 29, 99, 39, 20, 59, 3, 72, 47, 27, 25, 53, 18, 84, 48, 20, 57, 52, 10, 87, 29, 90, 86, 54, 11, 12, 45, 80, 57, 1, 56, 20, 34, 7, 94, 69, 51, 8, 70, 25, 16, 50, 23, 54, 8, 71, 9, 7, 61, 72, 48, 36, 3, 81, 22, 57, 15, 53, 58, 83, 40, 38, 9, 49, 45, 61, 2, 37, 16, 74, 34, 9, 24, 41, 52, 19, 67, 48, 97, 66, 25, 4, 51, 96, 68, 97, 3, 67, 93, 62, 53, 49, 63, 51, 14, 8, 73, 13, 84, 66, 34, 92, 72, 6, 91, 64, 91, 18, 45, 85, 57, 68, 93, 15, 49, 2, 67, 55, 35, 40, 64, 86, 28, 50, 76, 55, 29, 94, 84, 14, 77, 10, 82, 29, 93, 82, 42, 74, 89, 67, 78, 9, 16, 30, 60, 70, 45, 3, 22, 2, 67, 60, 68, 91, 49, 87, 73, 10, 51, 50, 29, 55, 79, 33, 81, 54, 11, 38, 54, 72, 19, 78, 9, 59, 52, 95, 77, 89, 19, 18, 33, 14, 30, 68, 45, 95, 39, 61, 54, 25, 1, 95, 77, 79, 94, 70, 26, 59, 20, 45, 72, 48, 78, 11, 31, 96, 49, 99, 95, 24, 2, 72, 55, 52, 54, 17, 5, 18, 35, 1, 78]\n"
     ]
    }
   ],
   "source": [
    "import random\n",
    "\n",
    "# GENERATE RANDOM\n",
    "nilaiTugas = []\n",
    "for i in range(250):\n",
    "    nilaiTugas.append(random.randrange(1,100,1))\n",
    "\n",
    "print(nilaiTugas)\n",
    "\n",
    "# TAMPILKAN:\n",
    "# ganjil\n",
    "# nilai > 70\n",
    "# standar deviasi\n",
    "# maksimum\n",
    "# minimum\n",
    "# modus"
   ]
  },
  {
   "cell_type": "markdown",
   "metadata": {},
   "source": [
    "## 1.Tampilkan Bilangan Ganjil"
   ]
  },
  {
   "cell_type": "code",
   "execution_count": 2,
   "metadata": {},
   "outputs": [
    {
     "name": "stdout",
     "output_type": "stream",
     "text": [
      "59\n",
      "31\n",
      "73\n",
      "25\n",
      "35\n",
      "67\n",
      "49\n",
      "55\n",
      "17\n",
      "11\n",
      "91\n",
      "7\n",
      "31\n",
      "29\n",
      "99\n",
      "39\n",
      "59\n",
      "3\n",
      "47\n",
      "27\n",
      "25\n",
      "53\n",
      "57\n",
      "87\n",
      "29\n",
      "11\n",
      "45\n",
      "57\n",
      "1\n",
      "7\n",
      "69\n",
      "51\n",
      "25\n",
      "23\n",
      "71\n",
      "9\n",
      "7\n",
      "61\n",
      "3\n",
      "81\n",
      "57\n",
      "15\n",
      "53\n",
      "83\n",
      "9\n",
      "49\n",
      "45\n",
      "61\n",
      "37\n",
      "9\n",
      "41\n",
      "19\n",
      "67\n",
      "97\n",
      "25\n",
      "51\n",
      "97\n",
      "3\n",
      "67\n",
      "93\n",
      "53\n",
      "49\n",
      "63\n",
      "51\n",
      "73\n",
      "13\n",
      "91\n",
      "91\n",
      "45\n",
      "85\n",
      "57\n",
      "93\n",
      "15\n",
      "49\n",
      "67\n",
      "55\n",
      "35\n",
      "55\n",
      "29\n",
      "77\n",
      "29\n",
      "93\n",
      "89\n",
      "67\n",
      "9\n",
      "45\n",
      "3\n",
      "67\n",
      "91\n",
      "49\n",
      "87\n",
      "73\n",
      "51\n",
      "29\n",
      "55\n",
      "79\n",
      "33\n",
      "81\n",
      "11\n",
      "19\n",
      "9\n",
      "59\n",
      "95\n",
      "77\n",
      "89\n",
      "19\n",
      "33\n",
      "45\n",
      "95\n",
      "39\n",
      "61\n",
      "25\n",
      "1\n",
      "95\n",
      "77\n",
      "79\n",
      "59\n",
      "45\n",
      "11\n",
      "31\n",
      "49\n",
      "99\n",
      "95\n",
      "55\n",
      "17\n",
      "5\n",
      "35\n",
      "1\n"
     ]
    }
   ],
   "source": [
    "\n",
    "for n in nilaiTugas:\n",
    "    if n%2 == 1:\n",
    "        print(n)\n"
   ]
  },
  {
   "cell_type": "markdown",
   "metadata": {},
   "source": [
    "## 2.Tampilkan jumlah yang > 70"
   ]
  },
  {
   "cell_type": "code",
   "execution_count": 13,
   "metadata": {},
   "outputs": [
    {
     "name": "stdout",
     "output_type": "stream",
     "text": [
      "73\n",
      "92\n",
      "72\n",
      "90\n",
      "78\n",
      "91\n",
      "98\n",
      "99\n",
      "72\n",
      "84\n",
      "87\n",
      "90\n",
      "86\n",
      "80\n",
      "94\n",
      "71\n",
      "72\n",
      "81\n",
      "83\n",
      "74\n",
      "97\n",
      "96\n",
      "97\n",
      "93\n",
      "73\n",
      "84\n",
      "92\n",
      "72\n",
      "91\n",
      "91\n",
      "85\n",
      "93\n",
      "86\n",
      "76\n",
      "94\n",
      "84\n",
      "77\n",
      "82\n",
      "93\n",
      "82\n",
      "74\n",
      "89\n",
      "78\n",
      "91\n",
      "87\n",
      "73\n",
      "79\n",
      "81\n",
      "72\n",
      "78\n",
      "95\n",
      "77\n",
      "89\n",
      "95\n",
      "95\n",
      "77\n",
      "79\n",
      "94\n",
      "72\n",
      "78\n",
      "96\n",
      "99\n",
      "95\n",
      "72\n",
      "78\n",
      "nilai yang lebih dari 70 ada 65\n"
     ]
    }
   ],
   "source": [
    "x = []\n",
    "for n in nilaiTugas:\n",
    "    if n>70:\n",
    "        x.append(n)\n",
    "        print(n)\n",
    "print('nilai yang lebih dari 70 ada',len(x))"
   ]
  },
  {
   "cell_type": "markdown",
   "metadata": {},
   "source": [
    "## 3. Standar Deviasi"
   ]
  },
  {
   "cell_type": "code",
   "execution_count": 20,
   "metadata": {},
   "outputs": [
    {
     "name": "stdout",
     "output_type": "stream",
     "text": [
      "total penjumlahan data =  12046\n",
      "nilai rata-rata = 48.184\n",
      "Standar Deviasi = 28.50512487255581\n"
     ]
    }
   ],
   "source": [
    "\n",
    "x = len(nilaiTugas)\n",
    "total = 0\n",
    "\n",
    "for i in nilaiTugas:\n",
    "    total = total+i\n",
    "print(\"total penjumlahan data = \",total)\n",
    "rata = total/x\n",
    "print(\"nilai rata-rata =\",rata)\n",
    "y = 0\n",
    "for j in nilaiTugas:\n",
    "    y = y + ((j-rata)**2)\n",
    "\n",
    "import math\n",
    "standardDeviasi = math.sqrt(y/x)\n",
    "print('Standar Deviasi =', standardDeviasi)"
   ]
  },
  {
   "cell_type": "markdown",
   "metadata": {},
   "source": [
    "## 4. Nilai maksimum dan Minimum"
   ]
  },
  {
   "cell_type": "code",
   "execution_count": 30,
   "metadata": {},
   "outputs": [
    {
     "name": "stdout",
     "output_type": "stream",
     "text": [
      "nilai tertinggi adalah =  99\n",
      "nilai terendah adalah =  1\n"
     ]
    }
   ],
   "source": [
    "print('nilai tertinggi adalah = ', max(nilaiTugas))\n",
    "print('nilai terendah adalah = ', min(nilaiTugas))"
   ]
  },
  {
   "cell_type": "markdown",
   "metadata": {},
   "source": [
    "## 5. Mencari nilai Modus / Nilai yang paling sering muncul"
   ]
  },
  {
   "cell_type": "code",
   "execution_count": 44,
   "metadata": {},
   "outputs": [
    {
     "name": "stdout",
     "output_type": "stream",
     "text": [
      "72\n",
      "ModeResult(mode=array([72]), count=array([7]))\n"
     ]
    }
   ],
   "source": [
    "import scipy.stats\n",
    "import numpy\n",
    "import statistics\n",
    "modus = statistics.mode(nilaiTugas)\n",
    "modus2 = scipy.stats.mode(nilaiTugas)\n",
    "print(modus)\n",
    "print(modus2)"
   ]
  },
  {
   "cell_type": "markdown",
   "metadata": {},
   "source": [
    "# Latihan 3"
   ]
  },
  {
   "cell_type": "markdown",
   "metadata": {},
   "source": [
    "## Word Count"
   ]
  },
  {
   "cell_type": "code",
   "execution_count": 57,
   "metadata": {},
   "outputs": [
    {
     "name": "stdout",
     "output_type": "stream",
     "text": [
      "Barcelona berhasil merebut posisi puncak klasemen La Liga Spanyol seusai menang 4-2 atas Sevilla pada pertandingan pekan kesembilan di Stadion Camp Nou, Sabtu (20/10/2018) atau Minggu dini hari WIB. Barcelona membuka keunggulan pada menit ke-2 melalui gol yang dicetak oleh Philippe Coutinho. Lionel Messi menggandakan keunggulan Barcelona, 10 menit berselang.  Namun, nahas bagi Barcelona, karena Messi harus ditarik keluar pada menit ke-26 setelah mengalami cedera. Tanpa Messi, skor 2-0 bertahan hingga babak pertama berakhir.\n",
      "####################\n",
      "pengelompokan kata\n",
      "####################\n",
      "berakhir {'barcelona': 4, 'berhasil': 1, 'merebut': 1, 'posisi': 1, 'puncak': 1, 'klasemen': 1, 'la': 1, 'liga': 1, 'spanyol': 1, 'seusai': 1, 'menang': 1, '42': 1, 'atas': 1, 'sevilla': 1, 'pada': 3, 'pertandingan': 1, 'pekan': 1, 'kesembilan': 1, 'di': 1, 'stadion': 1, 'camp': 1, 'nou': 1, 'sabtu': 1, '20102018': 1, 'atau': 1, 'minggu': 1, 'dini': 1, 'hari': 1, 'wib': 1, 'membuka': 1, 'keunggulan': 2, 'menit': 3, 'ke2': 1, 'melalui': 1, 'gol': 1, 'yang': 1, 'dicetak': 1, 'oleh': 1, 'philippe': 1, 'coutinho': 1, 'lionel': 1, 'messi': 3, 'menggandakan': 1, '10': 1, 'berselang': 1, 'namun': 1, 'nahas': 1, 'bagi': 1, 'karena': 1, 'harus': 1, 'ditarik': 1, 'keluar': 1, 'ke26': 1, 'setelah': 1, 'mengalami': 1, 'cedera': 1, 'tanpa': 1, 'skor': 1, '20': 1, 'bertahan': 1, 'hingga': 1, 'babak': 1, 'pertama': 1, 'berakhir': 1}\n"
     ]
    }
   ],
   "source": [
    "paragraf = \"Barcelona berhasil merebut posisi puncak klasemen La Liga Spanyol seusai menang 4-2 atas Sevilla pada pertandingan pekan kesembilan di Stadion Camp Nou, Sabtu (20/10/2018) atau Minggu dini hari WIB. Barcelona membuka keunggulan pada menit ke-2 melalui gol yang dicetak oleh Philippe Coutinho. Lionel Messi menggandakan keunggulan Barcelona, 10 menit berselang.  Namun, nahas bagi Barcelona, karena Messi harus ditarik keluar pada menit ke-26 setelah mengalami cedera. Tanpa Messi, skor 2-0 bertahan hingga babak pertama berakhir.\"\n",
    "print(paragraf)\n",
    "\n",
    "paragraf = paragraf.replace(\"-\", \"\")\n",
    "paragraf = paragraf.replace(\"/\", \"\")\n",
    "paragraf = paragraf.replace(\",\", \"\")\n",
    "paragraf = paragraf.replace(\"(\",\"\")\n",
    "paragraf = paragraf.replace(\")\", \"\")\n",
    "paragraf = paragraf.replace(\".\", \"\")\n",
    "paragraf = paragraf.lower()\n",
    "kata = paragraf.split( )\n",
    "#print(kata)\n",
    "jumlahkata = {}\n",
    "for word in kata:\n",
    "    if word not in jumlahkata:\n",
    "        jumlahkata[word] = 1\n",
    "    else:\n",
    "        jumlahkata[word] += 1\n",
    "print(\"####################\")\n",
    "print(\"pengelompokan kata\")\n",
    "print(\"####################\")\n",
    "print (word,jumlahkata)"
   ]
  },
  {
   "cell_type": "code",
   "execution_count": null,
   "metadata": {},
   "outputs": [],
   "source": []
  }
 ],
 "metadata": {
  "kernelspec": {
   "display_name": "Python 3",
   "language": "python",
   "name": "python3"
  },
  "language_info": {
   "codemirror_mode": {
    "name": "ipython",
    "version": 3
   },
   "file_extension": ".py",
   "mimetype": "text/x-python",
   "name": "python",
   "nbconvert_exporter": "python",
   "pygments_lexer": "ipython3",
   "version": "3.7.0"
  }
 },
 "nbformat": 4,
 "nbformat_minor": 2
}
