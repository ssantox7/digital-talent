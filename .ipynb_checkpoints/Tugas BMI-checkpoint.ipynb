{
 "cells": [
  {
   "cell_type": "code",
   "execution_count": 2,
   "metadata": {},
   "outputs": [
    {
     "name": "stdout",
     "output_type": "stream",
     "text": [
      "Masukkan Berat Badan(kg) : 50\n",
      "Masukkan Tinggi Badan(cm) : 150\n",
      "Your BMI =  22.22222222222222\n",
      "Nilai BMI 22.22222222222222 , Kategori BMI : Normal (healthy weight).\n"
     ]
    }
   ],
   "source": [
    "#Program Hitung BMI\n",
    "\n",
    "#Input variabel\n",
    "weight = float(input('Masukkan Berat Badan(kg) : '))\n",
    "height = float(input('Masukkan Tinggi Badan(cm) : '))\n",
    "\n",
    "bmi    = weight/((height / 100)**2)\n",
    "\n",
    "#cetak BMI\n",
    "print('Your BMI = ', bmi)\n",
    "\n",
    "#kategori BMI\n",
    "if bmi <= 15:\n",
    "        print('Nilai BMI', bmi,', Kategori BMI : Very severely underweight.')\n",
    "elif bmi > 15 and bmi < 16:\n",
    "        print('Nilai BMI', bmi,', Kategori BMI : Severely underweight.')\n",
    "elif bmi > 16 and bmi < 18.5:\n",
    "        print('Nilai BMI', bmi,', Kategori BMI : Underweight.')\n",
    "elif bmi > 18.5 and bmi < 25:\n",
    "        print('Nilai BMI', bmi,', Kategori BMI : Normal (healthy weight).') \n",
    "elif bmi > 25 and bmi < 30:\n",
    "        print('Nilai BMI', bmi,', Kategori BMI : Overweight.')\n",
    "elif bmi > 30 and bmi < 35:\n",
    "        print('Nilai BMI', bmi,', Kategori BMI : Moderately obese.')\n",
    "elif bmi > 35 and bmi < 40:\n",
    "        print('Nilai BMI', bmi,', Kategori BMI : Severely obese.') \n",
    "elif bmi > 40:\n",
    "        print('Nilai BMI', bmi,', Kategori BMI : Very severely obese.')"
   ]
  },
  {
   "cell_type": "code",
   "execution_count": null,
   "metadata": {},
   "outputs": [],
   "source": []
  }
 ],
 "metadata": {
  "kernelspec": {
   "display_name": "Python 3",
   "language": "python",
   "name": "python3"
  },
  "language_info": {
   "codemirror_mode": {
    "name": "ipython",
    "version": 3
   },
   "file_extension": ".py",
   "mimetype": "text/x-python",
   "name": "python",
   "nbconvert_exporter": "python",
   "pygments_lexer": "ipython3",
   "version": "3.7.0"
  }
 },
 "nbformat": 4,
 "nbformat_minor": 2
}
